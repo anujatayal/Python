{
 "cells": [
  {
   "cell_type": "code",
   "execution_count": 1,
   "metadata": {},
   "outputs": [],
   "source": [
    "from collections import defaultdict"
   ]
  },
  {
   "cell_type": "code",
   "execution_count": 56,
   "metadata": {},
   "outputs": [],
   "source": [
    "class Graph:\n",
    "    def __init__(self,vertices):\n",
    "        self.graph=defaultdict(list)\n",
    "        self.V=vertices\n",
    "    def addEdge(self,u,v):\n",
    "        self.graph[u].append(v)\n",
    "#         self.graph[v].append(u)\n",
    "\n",
    "    def BFS(self,s):\n",
    "        visited=[False]*len(self.graph)\n",
    "        print(len(self.graph))\n",
    "        queue=[]\n",
    "        queue.append(s)\n",
    "        visited[s]=True\n",
    "        while queue:\n",
    "            s=queue.pop(0)\n",
    "            print(s,end=\" \")\n",
    "            for i in self.graph[s]:\n",
    "                if visited[i]==False:\n",
    "                    queue.append(i)\n",
    "                    visited[i]=True\n",
    "    def dfs(self,s,visited):\n",
    "        visited[s]=True\n",
    "        print(s,end=\" \")\n",
    "        for i in self.graph[s]:\n",
    "            if visited[i]==False:\n",
    "                self.dfs(i,visited)\n",
    "\n",
    "    def DFS(self,s):\n",
    "        visited=[False]*(len(self.graph)+1)\n",
    "#         print(self.graph)\n",
    "        self.dfs(s,visited)\n",
    "#         for i in self.graph:\n",
    "#             print(i)\n",
    "    def Cyclic_directed(self):\n",
    "        visited=[False]*self.V\n",
    "        stack=[False]*self.V\n",
    "        print(self.graph)\n",
    "        for node in self.graph:\n",
    "            if stack[node]==True:\n",
    "                return True\n",
    "            if visited[node]==False:\n",
    "                visited[node]=True\n",
    "                stack[node]=True\n",
    "                for i in self.graph[node]:\n",
    "                    if visited[i]==False:\n",
    "                        stack[i]=True\n",
    "                    else:\n",
    "                        return True\n",
    "        return False \n",
    "    def union(self,parent,node1,node2):\n",
    "        node1_parent=self.find_parent(parent,node1)\n",
    "        node2_parent=self.find_parent(parent,node2)\n",
    "        parent[node1_parent]=node2_parent\n",
    "        \n",
    "    def find_parent(self,parent,node):\n",
    "        if parent[node]==-1:\n",
    "            return node\n",
    "        else:\n",
    "            return self.find_parent(parent,parent[node])\n",
    "        \n",
    "    def Cyclic_undirected(self):\n",
    "        parent=[-1]*self.V\n",
    "        for node in self.graph:\n",
    "            for i in self.graph[node]:\n",
    "                parent_node=self.find_parent(parent,node)\n",
    "                parent_i=self.find_parent(parent,i)\n",
    "                print(node,i,parent_node,parent_i)\n",
    "                if parent_node==parent_i and parent_node!=-1:\n",
    "                    return True\n",
    "                self.union(parent,node,i)\n",
    "        return False            \n"
   ]
  },
  {
   "cell_type": "code",
   "execution_count": 55,
   "metadata": {},
   "outputs": [
    {
     "name": "stdout",
     "output_type": "stream",
     "text": [
      "0 1 0 1\n",
      "0 2 1 2\n",
      "1 3 2 3\n",
      "1 4 3 4\n",
      "2 4 4 4\n",
      "True\n"
     ]
    }
   ],
   "source": [
    "g=Graph(6)\n",
    "g.addEdge(0,1)\n",
    "g.addEdge(0,2)\n",
    "g.addEdge(1,3)\n",
    "g.addEdge(1,4)\n",
    "g.addEdge(2,4)\n",
    "g.addEdge(3,4)\n",
    "g.addEdge(3,5)\n",
    "g.addEdge(4,5)\n",
    "print(g.Cyclic_undirected())\n",
    "# g.BFS(2)\n",
    "# print()\n",
    "# g.DFS(2)\n",
    "# print()\n",
    "# print(g.Cyclic_directed())"
   ]
  },
  {
   "cell_type": "code",
   "execution_count": 61,
   "metadata": {},
   "outputs": [
    {
     "name": "stdout",
     "output_type": "stream",
     "text": [
      "[[0, 1, 10], [0, 2, 6], [0, 3, 5], [1, 3, 15], [2, 3, 4]]\n",
      "[[2, 3, 4], [0, 3, 5], [0, 2, 6], [0, 1, 10], [1, 3, 15]]\n"
     ]
    }
   ],
   "source": [
    "class Graph:\n",
    "    def __init__(self,vertices):\n",
    "        self.graph=[]\n",
    "        self.V=vertices\n",
    "    def addEdgeWeight(self,u,v,w):\n",
    "        self.graph.append([u,v,w])\n",
    "    def union(self,parent,node1,node2):\n",
    "        node1_parent=self.find_parent(parent,node1)\n",
    "        node2_parent=self.find_parent(parent,node2)\n",
    "        parent[node1_parent]=node2_parent\n",
    "        \n",
    "    def find_parent(self,parent,node):\n",
    "        if parent[node]==-1:\n",
    "            return node\n",
    "        else:\n",
    "            return self.find_parent(parent,parent[node])\n",
    "        \n",
    "    def Cyclic_undirected(self):\n",
    "        parent=[-1]*self.V\n",
    "        for node in self.graph:\n",
    "            for i in self.graph[node]:\n",
    "                parent_node=self.find_parent(parent,node)\n",
    "                parent_i=self.find_parent(parent,i)\n",
    "                print(node,i,parent_node,parent_i)\n",
    "                if parent_node==parent_i and parent_node!=-1:\n",
    "                    return True\n",
    "                self.union(parent,node,i)\n",
    "        return False  \n",
    "    def kruskal(self):\n",
    "        print(self.graph)\n",
    "        visited=[False]*self.V\n",
    "        self.graph=sorted(self.graph,key=lambda k:k[2])\n",
    "        i=0\n",
    "        while False in visited:\n",
    "            \n",
    "        print(self.graph)\n",
    "        \n",
    "\n",
    "g=Graph(4)\n",
    "g.addEdgeWeight(0,1,10)\n",
    "g.addEdgeWeight(0,2,6)\n",
    "g.addEdgeWeight(0,3,5)\n",
    "g.addEdgeWeight(1,3,15)\n",
    "g.addEdgeWeight(2,3,4)\n",
    "g.kruskal()"
   ]
  },
  {
   "cell_type": "code",
   "execution_count": null,
   "metadata": {},
   "outputs": [],
   "source": []
  }
 ],
 "metadata": {
  "kernelspec": {
   "display_name": "Python 3",
   "language": "python",
   "name": "python3"
  },
  "language_info": {
   "codemirror_mode": {
    "name": "ipython",
    "version": 3
   },
   "file_extension": ".py",
   "mimetype": "text/x-python",
   "name": "python",
   "nbconvert_exporter": "python",
   "pygments_lexer": "ipython3",
   "version": "3.6.2"
  }
 },
 "nbformat": 4,
 "nbformat_minor": 2
}
