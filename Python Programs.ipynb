{
 "cells": [
  {
   "cell_type": "code",
   "execution_count": null,
   "metadata": {},
   "outputs": [],
   "source": [
    "#Anuja Tayal"
   ]
  },
  {
   "cell_type": "code",
   "execution_count": null,
   "metadata": {},
   "outputs": [],
   "source": [
    "# Question1: Write a function that takes an array of integers and returns that array rotated by N positions using Python.\n",
    "# For example, if N=2, given the input array [1, 2, 3, 4, 5, 6] the function should return [5, 6, 1, 2, 3, 4]"
   ]
  },
  {
   "cell_type": "code",
   "execution_count": 1,
   "metadata": {},
   "outputs": [
    {
     "name": "stdout",
     "output_type": "stream",
     "text": [
      "Enter the array1,2,3,4,5,6\n",
      "Enter the number by which you want to rotate2\n",
      "['3', '4', '5', '6', '1', '2']\n"
     ]
    }
   ],
   "source": [
    "arr=input(\"Enter the array\").split(',') #input array \n",
    "num=input(\"Enter the number by which you want to rotate\") #input number to which rotate\n",
    "num=int(num)\n",
    "#print(arr,num)\n",
    "if num>len(arr): #if number is greater than the length of array.\n",
    "    num=num%len(arr) \n",
    "new_arr=[] #empty new array\n",
    "for i in range(len(arr)):\n",
    "    new_arr.append(arr[(i+num)%len(arr)]) \n",
    "print(new_arr)"
   ]
  },
  {
   "cell_type": "code",
   "execution_count": null,
   "metadata": {},
   "outputs": [],
   "source": [
    "# Question\n",
    "#  Most languages have a built in sort method that will sort an array of strings alphabetically. Demonstrate how to \n",
    "# sort an array of strings by the length of each string, shortest strings first.\n",
    "# Hint: clean, small code wins."
   ]
  },
  {
   "cell_type": "code",
   "execution_count": 1,
   "metadata": {},
   "outputs": [
    {
     "name": "stdout",
     "output_type": "stream",
     "text": [
      "Enter the arrayHello there How are you\n",
      "How are you Hello there\n"
     ]
    }
   ],
   "source": [
    "array=input(\"Enter the array\") #input array \n",
    "words=array.split() #split array with space\n",
    "words.sort(key=len) #sort array with length\n",
    "new_array=' '.join(words) \n",
    "print(new_array) #print sorted array according length"
   ]
  },
  {
   "cell_type": "code",
   "execution_count": null,
   "metadata": {},
   "outputs": [],
   "source": [
    "# Question\n",
    "# Consider the following pattern:\n",
    "# A→D M→P X→A a→d m→p x→a\n",
    "# Now, write a program to solve the following message using Python.\n",
    "# Vrphwklqj phdqlqjixo"
   ]
  },
  {
   "cell_type": "code",
   "execution_count": 3,
   "metadata": {},
   "outputs": [
    {
     "name": "stdout",
     "output_type": "stream",
     "text": [
      "Something meaningful\n"
     ]
    }
   ],
   "source": [
    "arr=\"Vrphwklqj phdqlqjixo\" #required array\n",
    "new=\"\"\n",
    "for i in arr: #loop through every letter of array\n",
    "    if i.isalpha(): #if letter is alphabet\n",
    "        if i.isupper(): #if letter is upper case\n",
    "            i=chr((ord(i)-3-ord('A'))%26+ord('A')) \n",
    "        else:\n",
    "            i=chr((ord(i)-3-ord('a'))%26+ord('a')) #if letter is lower case\n",
    "    new=new+i\n",
    "print(new)"
   ]
  },
  {
   "cell_type": "code",
   "execution_count": null,
   "metadata": {},
   "outputs": [],
   "source": [
    "# Question\n",
    "# Use the following paragraphs (in italics below) as input to the program you wrote for Question 5.\n",
    "# It should output a meaningful question. Write a program to solve that question.\n",
    "# Zulwh d surjudp (lq Sbwkrq, MdydVfulsw ru Uxeb) wr srsxodwh dqg wkhq vruw d udqgrpob glvwulexwhg olvw ri 1 ploolrq lqwhjhuv, hdfk lqwhjhu kdylqj d ydoxh >= 1 dqg <= 100 zlwkrxw xvlqj dqb exlowlq/hawhuqdo oleudub/ixqfwlrq iru vruwlqj.\n",
    "# Brxu surjudp vkrxog fduhixoob frqvlghu wkh lqsxw dqg frph xs zlwk wkh prvw hiilflhqw vruwlqj vroxwlrq brx fdq wklqn ri. Surylgh wkh vsdfh dqg wlph frpsohalwb ri brxu dojrulwkp\n"
   ]
  },
  {
   "cell_type": "code",
   "execution_count": 4,
   "metadata": {},
   "outputs": [
    {
     "name": "stdout",
     "output_type": "stream",
     "text": [
      "Write a program (in Python, JavaScript or Ruby) to populate and then sort a randomly distributed list of 1 million integers, each integer having a value >= 1 and <= 100 without using any builtin/external library/function for sorting. Your program should carefully consider the input and come up with the most efficient sorting solution you can think of. Provide the space and time complexity of your algorithm\n"
     ]
    }
   ],
   "source": [
    "arr=\"Zulwh d surjudp (lq Sbwkrq, MdydVfulsw ru Uxeb) wr srsxodwh dqg wkhq vruw d \\\n",
    "udqgrpob glvwulexwhg olvw ri 1 ploolrq lqwhjhuv, hdfk lqwhjhu kdylqj d ydoxh >= 1 dqg <= \\\n",
    "100 zlwkrxw xvlqj dqb exlowlq/hawhuqdo oleudub/ixqfwlrq iru vruwlqj. \\\n",
    "Brxu surjudp vkrxog fduhixoob frqvlghu wkh lqsxw dqg frph xs zlwk wkh prvw hiilflhqw \\\n",
    "vruwlqj vroxwlrq brx fdq wklqn ri. Surylgh wkh vsdfh dqg wlph frpsohalwb ri brxu dojrulwkp\"\n",
    "new=\"\"\n",
    "for i in arr:\n",
    "    if i.isalpha():\n",
    "        if i.isupper():\n",
    "            i=chr((ord(i)-3-ord('A'))%26+ord('A'))\n",
    "        else:\n",
    "            i=chr((ord(i)-3-ord('a'))%26+ord('a'))\n",
    "    new=new+i\n",
    "print(new)"
   ]
  },
  {
   "cell_type": "code",
   "execution_count": null,
   "metadata": {},
   "outputs": [],
   "source": [
    "# Question\n",
    "# Write a simple program that reads a line from the keyboard and outputs the same line where every word is reversed. \n",
    "# A word is defined as a continuous sequence of alphanumeric characters or hyphen (‘-’).\n"
   ]
  },
  {
   "cell_type": "code",
   "execution_count": 2,
   "metadata": {},
   "outputs": [
    {
     "name": "stdout",
     "output_type": "stream",
     "text": [
      "tI si a modnar enil htiw modnar sdrow htiw emos gninaem\n"
     ]
    }
   ],
   "source": [
    "arr=\"It is a random line with random words with some meaning\"\n",
    "words=arr.split() #split array with space\n",
    "stri=[] \n",
    "for word in words:\n",
    "    word=word[::-1]  #reverse words\n",
    "    stri.append(word)\n",
    "stri=' '.join(stri)\n",
    "print(stri)"
   ]
  },
  {
   "cell_type": "code",
   "execution_count": null,
   "metadata": {},
   "outputs": [],
   "source": []
  }
 ],
 "metadata": {
  "kernelspec": {
   "display_name": "Python 3",
   "language": "python",
   "name": "python3"
  },
  "language_info": {
   "codemirror_mode": {
    "name": "ipython",
    "version": 3
   },
   "file_extension": ".py",
   "mimetype": "text/x-python",
   "name": "python",
   "nbconvert_exporter": "python",
   "pygments_lexer": "ipython3",
   "version": "3.6.2"
  }
 },
 "nbformat": 4,
 "nbformat_minor": 2
}
